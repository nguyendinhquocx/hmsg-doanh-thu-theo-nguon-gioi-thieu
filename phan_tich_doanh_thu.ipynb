{
 "cells": [
  {
   "cell_type": "markdown",
   "metadata": {},
   "source": [
    "# Phân tích Doanh thu theo Nguồn Giới thiệu\n",
    "\n",
    "Notebook này phân tích dữ liệu doanh thu từ các nguồn giới thiệu khác nhau trong file Excel `file xu li du lieu.xlsx`"
   ]
  },
  {
   "cell_type": "code",
   "execution_count": null,
   "metadata": {},
   "outputs": [],
   "source": [
    "# Import các thư viện cần thiết\n",
    "import pandas as pd\n",
    "import numpy as np\n",
    "import matplotlib.pyplot as plt\n",
    "import seaborn as sns\n",
    "from datetime import datetime\n",
    "import warnings\n",
    "warnings.filterwarnings('ignore')\n",
    "\n",
    "# Cấu hình hiển thị\n",
    "plt.style.use('default')\n",
    "plt.rcParams['figure.figsize'] = (12, 8)\n",
    "plt.rcParams['font.size'] = 10\n",
    "sns.set_palette('husl')\n",
    "\n",
    "# Hiển thị tất cả các cột\n",
    "pd.set_option('display.max_columns', None)\n",
    "pd.set_option('display.width', None)"
   ]
  },
  {
   "cell_type": "markdown",
   "metadata": {},
   "source": [
    "## 1. Đọc và Khám phá Dữ liệu"
   ]
  },
  {
   "cell_type": "code",
   "execution_count": null,
   "metadata": {},
   "outputs": [],
   "source": [
    "# Đọc dữ liệu từ sheet 'table'\n",
    "file_path = 'file xu li du lieu.xlsx'\n",
    "df = pd.read_excel(file_path, sheet_name='table')\n",
    "\n",
    "print(f\"Kích thước dữ liệu: {df.shape}\")\n",
    "print(f\"\\nThông tin cơ bản:\")\n",
    "df.info()"
   ]
  },
  {
   "cell_type": "code",
   "execution_count": null,
   "metadata": {},
   "outputs": [],
   "source": [
    "# Hiển thị 10 dòng đầu\n",
    "print(\"10 dòng đầu tiên:\")\n",
    "df.head(10)"
   ]
  },
  {
   "cell_type": "code",
   "execution_count": null,
   "metadata": {},
   "outputs": [],
   "source": [
    "# Làm sạch tên cột\n",
    "df.columns = df.columns.str.strip()\n",
    "print(\"Tên các cột:\")\n",
    "print(df.columns.tolist())\n",
    "\n",
    "# Kiểm tra dữ liệu thiếu\n",
    "print(\"\\nDữ liệu thiếu:\")\n",
    "print(df.isnull().sum())"
   ]
  },
  {
   "cell_type": "markdown",
   "metadata": {},
   "source": [
    "## 2. Thống kê Mô tả"
   ]
  },
  {
   "cell_type": "code",
   "execution_count": null,
   "metadata": {},
   "outputs": [],
   "source": [
    "# Thống kê mô tả cho các cột số\n",
    "print(\"Thống kê mô tả:\")\n",
    "df.describe()"
   ]
  },
  {
   "cell_type": "code",
   "execution_count": null,
   "metadata": {},
   "outputs": [],
   "source": [
    "# Tổng quan về nguồn giới thiệu\n",
    "print(\"Số lượng nguồn giới thiệu duy nhất:\", df['noi gioi thieu'].nunique())\n",
    "print(\"\\nDanh sách các nguồn giới thiệu:\")\n",
    "print(df['noi gioi thieu'].unique())"
   ]
  },
  {
   "cell_type": "code",
   "execution_count": null,
   "metadata": {},
   "outputs": [],
   "source": [
    "# Tổng quan về thời gian\n",
    "print(\"Các tháng trong dữ liệu:\")\n",
    "print(sorted(df['thang'].unique()))\n",
    "\n",
    "print(\"Số lượng bản ghi theo tháng:\")\n",
    "print(df['thang'].value_counts().sort_index())"
   ]
  },
  {
   "cell_type": "markdown",
   "metadata": {},
   "source": [
    "## 3. Phân tích Doanh thu theo Nguồn Giới thiệu"
   ]
  },
  {
   "cell_type": "code",
   "execution_count": null,
   "metadata": {},
   "outputs": [],
   "source": [
    "# Tổng doanh thu theo nguồn giới thiệu\n",
    "doanh_thu_theo_nguon = df.groupby('noi gioi thieu').agg({\n",
    "    'so luong': 'sum',\n",
    "    'doanh thu': 'sum'\n",
    "}).sort_values('doanh thu', ascending=False)\n",
    "\n",
    "print(\"Top 10 nguồn giới thiệu theo doanh thu:\")\n",
    "doanh_thu_theo_nguon.head(10)"
   ]
  },
  {
   "cell_type": "code",
   "execution_count": null,
   "metadata": {},
   "outputs": [],
   "source": [
    "# Biểu đồ Top 10 nguồn giới thiệu theo doanh thu\n",
    "plt.figure(figsize=(14, 8))\n",
    "top_10_nguon = doanh_thu_theo_nguon.head(10)\n",
    "\n",
    "plt.barh(range(len(top_10_nguon)), top_10_nguon['doanh thu'], color='#2E86AB')\n",
    "plt.yticks(range(len(top_10_nguon)), [name[:50] + '...' if len(name) > 50 else name for name in top_10_nguon.index])\n",
    "plt.xlabel('Doanh thu (VNĐ)')\n",
    "plt.title('Top 10 Nguồn Giới thiệu theo Doanh thu', fontsize=14, fontweight='bold')\n",
    "plt.gca().invert_yaxis()\n",
    "\n",
    "# Thêm giá trị trên thanh\n",
    "for i, v in enumerate(top_10_nguon['doanh thu']):\n",
    "    plt.text(v + max(top_10_nguon['doanh thu']) * 0.01, i, f'{v:,.0f}', va='center')\n",
    "\n",
    "plt.tight_layout()\n",
    "plt.show()"
   ]
  },
  {
   "cell_type": "code",
   "execution_count": null,
   "metadata": {},
   "outputs": [],
   "source": [
    "# Biểu đồ tròn cho Top 5 nguồn giới thiệu\n",
    "plt.figure(figsize=(10, 8))\n",
    "top_5_nguon = doanh_thu_theo_nguon.head(5)\n",
    "others = doanh_thu_theo_nguon.iloc[5:]['doanh thu'].sum()\n",
    "\n",
    "# Tạo dữ liệu cho biểu đồ tròn\n",
    "labels = [name[:30] + '...' if len(name) > 30 else name for name in top_5_nguon.index]\n",
    "labels.append('Khác')\n",
    "sizes = list(top_5_nguon['doanh thu']) + [others]\n",
    "\n",
    "plt.pie(sizes, labels=labels, autopct='%1.1f%%', startangle=90)\n",
    "plt.title('Phân bố Doanh thu theo Nguồn Giới thiệu (Top 5 + Khác)', fontsize=14, fontweight='bold')\n",
    "plt.axis('equal')\n",
    "plt.show()"
   ]
  },
  {
   "cell_type": "markdown",
   "metadata": {},
   "source": [
    "## 4. Phân tích Xu hướng theo Thời gian"
   ]
  },
  {
   "cell_type": "code",
   "execution_count": null,
   "metadata": {},
   "outputs": [],
   "source": [
    "# Doanh thu theo tháng\n",
    "doanh_thu_theo_thang = df.groupby('thang').agg({\n",
    "    'so luong': 'sum',\n",
    "    'doanh thu': 'sum'\n",
    "}).sort_index()\n",
    "\n",
    "print(\"Doanh thu theo tháng:\")\n",
    "doanh_thu_theo_thang"
   ]
  },
  {
   "cell_type": "code",
   "execution_count": null,
   "metadata": {},
   "outputs": [],
   "source": [
    "# Biểu đồ xu hướng doanh thu theo tháng\n",
    "fig, (ax1, ax2) = plt.subplots(2, 1, figsize=(12, 10))\n",
    "\n",
    "# Doanh thu theo tháng\n",
    "ax1.plot(doanh_thu_theo_thang.index, doanh_thu_theo_thang['doanh thu'], \n",
    "         marker='o', linewidth=2, markersize=8, color='#2E86AB')\n",
    "ax1.set_title('Xu hướng Doanh thu theo Tháng', fontsize=14, fontweight='bold')\n",
    "ax1.set_ylabel('Doanh thu (VNĐ)')\n",
    "ax1.grid(True, alpha=0.3)\n",
    "\n",
    "# Số lượng theo tháng\n",
    "ax2.plot(doanh_thu_theo_thang.index, doanh_thu_theo_thang['so luong'], \n",
    "         marker='s', linewidth=2, markersize=8, color='#A23B72')\n",
    "ax2.set_title('Xu hướng Số lượng theo Tháng', fontsize=14, fontweight='bold')\n",
    "ax2.set_xlabel('Tháng')\n",
    "ax2.set_ylabel('Số lượng')\n",
    "ax2.grid(True, alpha=0.3)\n",
    "\n",
    "plt.tight_layout()\n",
    "plt.show()"
   ]
  },
  {
   "cell_type": "markdown",
   "metadata": {},
   "source": [
    "## 5. Phân tích Chi tiết theo Nguồn và Thời gian"
   ]
  },
  {
   "cell_type": "code",
   "execution_count": null,
   "metadata": {},
   "outputs": [],
   "source": [
    "# Tạo pivot table cho heatmap\n",
    "pivot_doanh_thu = df.pivot_table(\n",
    "    values='doanh thu', \n",
    "    index='noi gioi thieu', \n",
    "    columns='thang', \n",
    "    aggfunc='sum', \n",
    "    fill_value=0\n",
    ")\n",
    "\n",
    "# Chỉ lấy top 10 nguồn giới thiệu\n",
    "top_10_names = doanh_thu_theo_nguon.head(10).index\n",
    "pivot_top_10 = pivot_doanh_thu.loc[top_10_names]\n",
    "\n",
    "print(\"Pivot table doanh thu (Top 10 nguồn):\")\n",
    "pivot_top_10"
   ]
  },
  {
   "cell_type": "code",
   "execution_count": null,
   "metadata": {},
   "outputs": [],
   "source": [
    "# Heatmap doanh thu theo nguồn và tháng\n",
    "plt.figure(figsize=(12, 10))\n",
    "\n",
    "# Rút ngắn tên nguồn giới thiệu\n",
    "short_names = [name[:40] + '...' if len(name) > 40 else name for name in pivot_top_10.index]\n",
    "pivot_display = pivot_top_10.copy()\n",
    "pivot_display.index = short_names\n",
    "\n",
    "sns.heatmap(pivot_display, annot=True, fmt='.0f', cmap='YlOrRd', \n",
    "            cbar_kws={'label': 'Doanh thu (VNĐ)'})\n",
    "plt.title('Heatmap Doanh thu theo Nguồn Giới thiệu và Tháng (Top 10)', \n",
    "          fontsize=14, fontweight='bold')\n",
    "plt.xlabel('Tháng')\n",
    "plt.ylabel('Nguồn Giới thiệu')\n",
    "plt.xticks(rotation=45)\n",
    "plt.yticks(rotation=0)\n",
    "plt.tight_layout()\n",
    "plt.show()"
   ]
  },
  {
   "cell_type": "markdown",
   "metadata": {},
   "source": [
    "## 6. Phân tích Hiệu suất"
   ]
  },
  {
   "cell_type": "code",
   "execution_count": null,
   "metadata": {},
   "outputs": [],
   "source": [
    "# Tính doanh thu trung bình mỗi lượt\n",
    "df['doanh_thu_tb_moi_luot'] = df['doanh thu'] / df['so luong']\n",
    "\n",
    "# Phân tích hiệu suất theo nguồn\n",
    "hieu_suat_nguon = df.groupby('noi gioi thieu').agg({\n",
    "    'so luong': 'sum',\n",
    "    'doanh thu': 'sum',\n",
    "    'doanh_thu_tb_moi_luot': 'mean'\n",
    "}).sort_values('doanh_thu_tb_moi_luot', ascending=False)\n",
    "\n",
    "print(\"Top 10 nguồn theo doanh thu trung bình mỗi lượt:\")\n",
    "hieu_suat_nguon.head(10)"
   ]
  },
  {
   "cell_type": "code",
   "execution_count": null,
   "metadata": {},
   "outputs": [],
   "source": [
    "# Biểu đồ scatter: Số lượng vs Doanh thu trung bình\n",
    "plt.figure(figsize=(12, 8))\n",
    "\n",
    "# Chỉ hiển thị các nguồn có ít nhất 5 lượt\n",
    "filtered_data = hieu_suat_nguon[hieu_suat_nguon['so luong'] >= 5]\n",
    "\n",
    "plt.scatter(filtered_data['so luong'], filtered_data['doanh_thu_tb_moi_luot'], \n",
    "           s=100, alpha=0.6, color='#2E86AB')\n",
    "\n",
    "plt.xlabel('Tổng số lượng')\n",
    "plt.ylabel('Doanh thu trung bình mỗi lượt (VNĐ)')\n",
    "plt.title('Mối quan hệ giữa Số lượng và Doanh thu TB/lượt\\n(Chỉ hiển thị nguồn có ≥5 lượt)', \n",
    "          fontsize=14, fontweight='bold')\n",
    "plt.grid(True, alpha=0.3)\n",
    "\n",
    "# Thêm tên cho một số điểm nổi bật\n",
    "for idx, row in filtered_data.head(5).iterrows():\n",
    "    plt.annotate(idx[:30] + '...' if len(idx) > 30 else idx, \n",
    "                (row['so luong'], row['doanh_thu_tb_moi_luot']),\n",
    "                xytext=(5, 5), textcoords='offset points', fontsize=8)\n",
    "\n",
    "plt.tight_layout()\n",
    "plt.show()"
   ]
  },
  {
   "cell_type": "markdown",
   "metadata": {},
   "source": [
    "## 7. Tóm tắt và Kết luận"
   ]
  },
  {
   "cell_type": "code",
   "execution_count": null,
   "metadata": {},
   "outputs": [],
   "source": [
    "# Tóm tắt các chỉ số quan trọng\n",
    "print(\"=== TÓM TẮT PHÂN TÍCH DOANH THU ===\")\n",
    "print(f\"Tổng doanh thu: {df['doanh thu'].sum():,.0f} VNĐ\")\n",
    "print(f\"Tổng số lượng: {df['so luong'].sum():,.0f} lượt\")\n",
    "print(f\"Doanh thu trung bình mỗi lượt: {df['doanh thu'].sum() / df['so luong'].sum():,.0f} VNĐ\")\n",
    "print(f\"Số nguồn giới thiệu: {df['noi gioi thieu'].nunique()} nguồn\")\n",
    "print(f\"Thời gian phân tích: {df['thang'].min()} - {df['thang'].max()}\")\n",
    "\n",
    "print(\"\\n=== TOP 3 NGUỒN GIỚI THIỆU ===\")\n",
    "for i, (nguon, data) in enumerate(doanh_thu_theo_nguon.head(3).iterrows(), 1):\n",
    "    print(f\"{i}. {nguon}\")\n",
    "    print(f\"   Doanh thu: {data['doanh thu']:,.0f} VNĐ ({data['doanh thu']/df['doanh thu'].sum()*100:.1f}%)\")\n",
    "    print(f\"   Số lượng: {data['so luong']:,.0f} lượt\")\n",
    "    print()"
   ]
  },
  {
   "cell_type": "code",
   "execution_count": null,
   "metadata": {},
   "outputs": [],
   "source": [
    "# Xuất báo cáo tóm tắt ra file Excel\n",
    "with pd.ExcelWriter('bao_cao_phan_tich_doanh_thu.xlsx', engine='openpyxl') as writer:\n",
    "    # Sheet 1: Tổng hợp theo nguồn\n",
    "    doanh_thu_theo_nguon.to_excel(writer, sheet_name='Theo_Nguon')\n",
    "    \n",
    "    # Sheet 2: Tổng hợp theo tháng\n",
    "    doanh_thu_theo_thang.to_excel(writer, sheet_name='Theo_Thang')\n",
    "    \n",
    "    # Sheet 3: Hiệu suất\n",
    "    hieu_suat_nguon.to_excel(writer, sheet_name='Hieu_Suat')\n",
    "    \n",
    "    # Sheet 4: Pivot table\n",
    "    pivot_doanh_thu.to_excel(writer, sheet_name='Pivot_Table')\n",
    "\n",
    "print(\"Đã xuất báo cáo ra file: bao_cao_phan_tich_doanh_thu.xlsx\")"
   ]
  }
 ],
 "metadata": {
  "kernelspec": {
   "display_name": "Python 3",
   "language": "python",
   "name": "python3"
  },
  "language_info": {
   "codemirror_mode": {
    "name": "ipython",
    "version": 3
   },
   "file_extension": ".py",
   "mimetype": "text/x-python",
   "name": "python",
   "nbconvert_exporter": "python",
   "pygments_lexer": "ipython3",
   "version": "3.13.1"
  }
 },
 "nbformat": 4,
 "nbformat_minor": 4
}
